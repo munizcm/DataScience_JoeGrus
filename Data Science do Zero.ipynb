{
 "cells": [
  {
   "cell_type": "markdown",
   "id": "eccc5fbe",
   "metadata": {},
   "source": [
    "## Encontrando conectores chaves\n",
    "\n",
    "Temos uma lista de pessoas com seus respectivos \"ids\". \n",
    "Logo abaixo mostramos quem se relaciona com quem, através do objeto \"friendships\". Ex: O usuário 0 ou Hero, se relaciona com o usuário 1 ou Dunn e usuário 2 ou Sue, e assim por diante."
   ]
  },
  {
   "cell_type": "code",
   "execution_count": 1,
   "id": "ea0ae8c9",
   "metadata": {},
   "outputs": [
    {
     "name": "stdout",
     "output_type": "stream",
     "text": [
      "[{'id': 0, 'name': 'Hero'}, {'id': 1, 'name': 'Dunn'}, {'id': 2, 'name': 'Sue'}, {'id': 3, 'name': 'Chi'}, {'id': 4, 'name': 'Thor'}, {'id': 5, 'name': 'Chive'}, {'id': 6, 'name': 'Hicks'}, {'id': 7, 'name': 'Devin'}, {'id': 8, 'name': 'Kate'}, {'id': 9, 'name': 'Klein'}]\n"
     ]
    }
   ],
   "source": [
    "users = [\n",
    "    {\"id\": 0, \"name\": \"Hero\"},\n",
    "    {\"id\": 1, \"name\": \"Dunn\"},\n",
    "    {\"id\": 2, \"name\": \"Sue\"},\n",
    "    {\"id\": 3, \"name\": \"Chi\"},\n",
    "    {\"id\": 4, \"name\": \"Thor\"},\n",
    "    {\"id\": 5, \"name\": \"Chive\"},\n",
    "    {\"id\": 6, \"name\": \"Hicks\"},\n",
    "    {\"id\": 7, \"name\": \"Devin\"},\n",
    "    {\"id\": 8, \"name\": \"Kate\"},\n",
    "    {\"id\": 9, \"name\": \"Klein\"}    \n",
    "]\n",
    "print (users)"
   ]
  },
  {
   "cell_type": "code",
   "execution_count": 2,
   "id": "7338cb1e",
   "metadata": {},
   "outputs": [],
   "source": [
    "friendships = [(0,1), (0,2), (1,2), (1,3), (2,3), (3,4), (4,5), (5,6), (5,7), (6,8), \n",
    "              (7,8), (8,9)]"
   ]
  },
  {
   "cell_type": "markdown",
   "id": "d87d3508",
   "metadata": {},
   "source": [
    "Agora queremos adicionar uma lista de amigos para cada usuário no objeto \"users\""
   ]
  },
  {
   "cell_type": "code",
   "execution_count": 3,
   "id": "f139b1ac",
   "metadata": {},
   "outputs": [],
   "source": [
    "for user in users:\n",
    "    user[\"friends\"] = []"
   ]
  },
  {
   "cell_type": "code",
   "execution_count": 4,
   "id": "ddf295ef",
   "metadata": {},
   "outputs": [],
   "source": [
    "for i, j in friendships:\n",
    "    #isso funciona porque user[i] é o usuário cuja id é i \n",
    "    users[i][\"friends\"].append(users[j]) #adiciona i como amigo de j \n",
    "    users[j][\"friends\"].append(users[i]) #adiciona j como amigo de i "
   ]
  },
  {
   "cell_type": "markdown",
   "id": "17d57bb7",
   "metadata": {},
   "source": [
    "A partir da lista de amizades criadas para casa usuário queremos definir quantas conexões (relacionamentos) cada usuário possui:"
   ]
  },
  {
   "cell_type": "code",
   "execution_count": 5,
   "id": "0dc1006a",
   "metadata": {},
   "outputs": [],
   "source": [
    "def number_of_friends(user):\n",
    "    \"\"\"quantos amigos o usuário tem?\"\"\"\n",
    "    return len(user[\"friends\"])          #tamanho da lista friends_ids\n",
    "\n",
    "total_connections = sum(number_of_friends(user)\n",
    "                      for user in users)"
   ]
  },
  {
   "cell_type": "markdown",
   "id": "f2d891aa",
   "metadata": {},
   "source": [
    "Em alguns casos é interessante calcular o número médio de conexões que da rede como um todo:"
   ]
  },
  {
   "cell_type": "code",
   "execution_count": 6,
   "id": "e8d616ce",
   "metadata": {},
   "outputs": [],
   "source": [
    "from __future__ import division                 #divisao inteira esta incompleta\n",
    "num_users = len(users)                          #tamanho da lista de usuarios\n",
    "avg_connections = total_connections / num_users #2.4"
   ]
  },
  {
   "cell_type": "markdown",
   "id": "c2e7320b",
   "metadata": {},
   "source": [
    "Abaixo temos uma lista que corresponde ao número do id do usuário e quantas conexões ele possui."
   ]
  },
  {
   "cell_type": "code",
   "execution_count": 7,
   "id": "1681802f",
   "metadata": {},
   "outputs": [
    {
     "name": "stdout",
     "output_type": "stream",
     "text": [
      "[(0, 2), (1, 3), (2, 3), (3, 3), (4, 2), (5, 3), (6, 2), (7, 2), (8, 3), (9, 1)]\n"
     ]
    }
   ],
   "source": [
    "#cria uma lista (user_id, number_of_friends)\n",
    "num_friends_by_id = [(user[\"id\"], number_of_friends(user))\n",
    "                    for user in users]\n",
    "\n",
    "print(num_friends_by_id)"
   ]
  },
  {
   "cell_type": "code",
   "execution_count": 8,
   "id": "0ecedfa7",
   "metadata": {},
   "outputs": [
    {
     "ename": "SyntaxError",
     "evalue": "invalid syntax (<ipython-input-8-904cfd831c8b>, line 3)",
     "output_type": "error",
     "traceback": [
      "\u001b[0;36m  File \u001b[0;32m\"<ipython-input-8-904cfd831c8b>\"\u001b[0;36m, line \u001b[0;32m3\u001b[0m\n\u001b[0;31m    key=lambda(user_id, num_of_friends): num_of_friends,    #por num_friends\u001b[0m\n\u001b[0m              ^\u001b[0m\n\u001b[0;31mSyntaxError\u001b[0m\u001b[0;31m:\u001b[0m invalid syntax\n"
     ]
    }
   ],
   "source": [
    "###DEU ERRO, MAS É SÓ PARA ORDENAR OS USUARIOS DE ACORDO COM SEU NUMERO DE CONEXÕES\n",
    "sorted(num_friends_by_id,                               #é ordenado\n",
    "      key=lambda(user_id, num_of_friends): num_of_friends,    #por num_friends\n",
    "      reverse = True)                                   #do maior pro menor\n",
    "\n",
    "#cada par é (user_id, num_friends)\n",
    "#[(1,3), (2,3), (3,3), (5,3), (8,3),\n",
    "#  (0,2), (4,2), (6,2), (7,2), (9,1)]"
   ]
  },
  {
   "cell_type": "markdown",
   "id": "2583aab9",
   "metadata": {},
   "source": [
    "Para descobrir quem são os amigos de cada um dos usuários, utilizamos:"
   ]
  },
  {
   "cell_type": "code",
   "execution_count": 9,
   "id": "6a3a49d7",
   "metadata": {},
   "outputs": [
    {
     "data": {
      "text/plain": [
       "[0, 2, 3, 0, 1, 3]"
      ]
     },
     "execution_count": 9,
     "metadata": {},
     "output_type": "execute_result"
    }
   ],
   "source": [
    "def friends_of_friends_ids_bad(user):\n",
    "    #'foaf' é abreviação de 'friends of a friend'\n",
    "    return [foaf[\"id\"]\n",
    "           for friend in user [\"friends\"]         #Para cada amigo de usuário\n",
    "           for foaf in friend [\"friends\"]]        #Para cada _their_friends\n",
    "\n",
    "friends_of_friends_ids_bad(users[0])"
   ]
  },
  {
   "cell_type": "markdown",
   "id": "102b1038",
   "metadata": {},
   "source": [
    "Para o usuário 0 ou \"Hero\" os amigos dos seus amigos são os usuários dos ids 0,2,3,0,1,3. \n",
    "Ele mesmo aparece nessa lista porque ele é amigo dos seus amigos. \n",
    "Perceba que a função nos retorna todas as pessoas com que os amigos de Hero tem conexão, inclusive ele. "
   ]
  },
  {
   "cell_type": "code",
   "execution_count": 10,
   "id": "95009370",
   "metadata": {},
   "outputs": [
    {
     "name": "stdout",
     "output_type": "stream",
     "text": [
      "[1, 2]\n",
      "[0, 2, 3]\n",
      "[0, 1, 3]\n"
     ]
    }
   ],
   "source": [
    "print ([friend[\"id\"] for friend in users[0][\"friends\"]])\n",
    "print ([friend[\"id\"] for friend in users[1][\"friends\"]])\n",
    "print ([friend[\"id\"] for friend in users[2][\"friends\"]])\n"
   ]
  },
  {
   "cell_type": "markdown",
   "id": "6bb719c8",
   "metadata": {},
   "source": [
    "Para avaliarmos a quantidade de amigos em comum que um usuário tem com os demais, fazemos a seguinte função:"
   ]
  },
  {
   "cell_type": "code",
   "execution_count": 11,
   "id": "6aabcdd9",
   "metadata": {},
   "outputs": [
    {
     "name": "stdout",
     "output_type": "stream",
     "text": [
      "Counter({0: 2, 5: 1})\n"
     ]
    }
   ],
   "source": [
    "from collections import Counter\n",
    "\n",
    "def not_the_same (user, other_user):\n",
    "    \"\"\" dois usuários não são os mesmos se possuem ids diferentes\"\"\"\n",
    "    return user[\"id\"] != other_user[\"id\"]\n",
    "\n",
    "def not_friends (user, other_user):\n",
    "    \"\"\"\"other_user não é um amigo se não está em user[\"friends\"];\n",
    "    isso é, se é not_the_same com todas as pessoas em user[\"friends\"]\"\"\"\n",
    "    return all(not_the_same(friend, other_user)\n",
    "              for friend in user[\"friends\"])\n",
    "\n",
    "def friends_of_friend_ids(user):\n",
    "    return Counter (foaf [\"id\"]\n",
    "                   for friend in user[\"friends\"]     #para cada um dos meus amigos\n",
    "                   for foaf in friend[\"friends\"]     #que contam *their* amigos \n",
    "                   if not_the_same(user, foaf)       #que não sejam eu \n",
    "                   and not_friends(user, foaf))      #e que não sejam meus amigos\n",
    "\n",
    "print (friends_of_friend_ids(users[3]))"
   ]
  },
  {
   "cell_type": "markdown",
   "id": "b56e3602",
   "metadata": {},
   "source": [
    "Também podemos conectar pessoas através dos seus interesses em comum. No objeto a seguir temos uma lista, que contém os ids dos usuários e seus respectivos interesses:"
   ]
  },
  {
   "cell_type": "code",
   "execution_count": 12,
   "id": "3e698e72",
   "metadata": {},
   "outputs": [],
   "source": [
    "interests = [\n",
    "    (0, \"Hadoop\"), (0, \"Big Data\"), (0,\"HBase\"), (0, \"Java\"),\n",
    "    (0, \"Spark\"), (0, \"Storm\"), (0, \"Cassandra\"),\n",
    "    (1, \"NoSQL\"), (1, \"MongoDB\"), (1, \"Cassandra\"), (1, \"HBase\"), \n",
    "    (1, \"Postgres\"), (2, \"Phyton\"), (2, \"scikit-learn\"), (2, \"scipy\"), \n",
    "    (2, \"numpy\"), (2, \"statsmodels\"), (2, \"pandas\"), (3, \"R\"), (3, \"Phyton\"), \n",
    "    (3, \"statistics\"), (3, \"regression\"), (3, \"probability\"), \n",
    "    (4, \"machine learning\"), (4, \"regression\"), (4, \"decision trees\"), \n",
    "    (4, \"libsvm\"), (5, \"Phyton\"), (5, \"R\"), (5, \"Java\"), (5, \"C++\"), \n",
    "    (5, \"Haskell\"), (5, \"programming languages\"), (6, \"statistics\"), \n",
    "    (6, \"probability\"), (6, \"mathematics\"), (6, \"theory\"), \n",
    "    (7, \"machine learning\"), (7, \"scikit-learn\"), (7, \"Mahout\"), \n",
    "    (7, \"neural networks\"), (8, \"neural networks\"), (8, \"deep learning\"), \n",
    "    (8, \"Big Data\"), (8, \"artificial intelligence\"), (9, \"Hadoop\"), \n",
    "    (9, \"Java\"), (9, \"MapReduce\"), (9, \"Big Data\")\n",
    "]"
   ]
  },
  {
   "cell_type": "markdown",
   "id": "6ce47c51",
   "metadata": {},
   "source": [
    "Para criar uma função para conectarmos os usuários com o mesmo interesse, temos:"
   ]
  },
  {
   "cell_type": "code",
   "execution_count": 13,
   "id": "4a7930ed",
   "metadata": {},
   "outputs": [],
   "source": [
    "def data_scientists_who_like(target_interest):\n",
    "    return [user_id\n",
    "           for user_id, user_interest in interests\n",
    "           if user_interest == target_interest]"
   ]
  },
  {
   "cell_type": "code",
   "execution_count": 14,
   "id": "237eea0f",
   "metadata": {},
   "outputs": [
    {
     "data": {
      "text/plain": [
       "[3, 5]"
      ]
     },
     "execution_count": 14,
     "metadata": {},
     "output_type": "execute_result"
    }
   ],
   "source": [
    "data_scientists_who_like (\"R\")"
   ]
  },
  {
   "cell_type": "markdown",
   "id": "51f24ada",
   "metadata": {},
   "source": [
    "Com essa função, colocamos o interesse desejado e ela nos retorna quais usuários se interessam por esse assunto. Porém, ela não é muito prática quando temos muitos usuários, ou muitos interesses pois avaliar um por um daria muito trabalho. \n",
    "Assim, podemos criar um índice de interesses para usuários"
   ]
  },
  {
   "cell_type": "code",
   "execution_count": 15,
   "id": "62b795ac",
   "metadata": {},
   "outputs": [],
   "source": [
    "from collections import defaultdict \n",
    "\n",
    "#as chaves são interesses, os valores são listas de users_ids com interesses \n",
    "user_ids_by_interest = defaultdict(list)\n",
    "\n",
    "for user_id, interest in interests:\n",
    "    user_ids_by_interest[interest].append(user_id)\n",
    "    \n"
   ]
  },
  {
   "cell_type": "code",
   "execution_count": 16,
   "id": "418a1e21",
   "metadata": {},
   "outputs": [
    {
     "ename": "SyntaxError",
     "evalue": "invalid syntax (<ipython-input-16-41aabc195b90>, line 1)",
     "output_type": "error",
     "traceback": [
      "\u001b[0;36m  File \u001b[0;32m\"<ipython-input-16-41aabc195b90>\"\u001b[0;36m, line \u001b[0;32m1\u001b[0m\n\u001b[0;31m    E outro de usuários para interesses:\u001b[0m\n\u001b[0m      ^\u001b[0m\n\u001b[0;31mSyntaxError\u001b[0m\u001b[0;31m:\u001b[0m invalid syntax\n"
     ]
    }
   ],
   "source": [
    "E outro de usuários para interesses:"
   ]
  },
  {
   "cell_type": "code",
   "execution_count": 17,
   "id": "1af5c879",
   "metadata": {},
   "outputs": [],
   "source": [
    "#as chaves são user_ids, os valores são as listas de interests para aquele user_id\n",
    "interests_by_user_id = defaultdict(list)\n",
    "\n",
    "for user_id, interest in interests: \n",
    "    interests_by_user_id[user_id].append(interest)"
   ]
  },
  {
   "cell_type": "markdown",
   "id": "de767c8f",
   "metadata": {},
   "source": [
    "Agora fica fácil descobrir quem possui os maiores interesses em comum com um certo usuário:\n",
    "\n",
    "* Itera sobre os interesses do usuário\n",
    "* Para cada interesse, itera sobre os outros usuários com aquele interesse. \n",
    "* Mantém a contagem de quantas vezes vemos cada outro usuário"
   ]
  },
  {
   "cell_type": "code",
   "execution_count": 18,
   "id": "33828494",
   "metadata": {},
   "outputs": [],
   "source": [
    "def most_commom_interests_with(user):\n",
    "    return Counter(interested_user_id\n",
    "        for interest in interests_by_user_id[users[\"id\"]]\n",
    "        for interested_user_id in user_ids_by_interest[interest]\n",
    "        if interested_user_id != user[\"id\"])"
   ]
  },
  {
   "cell_type": "markdown",
   "id": "0a26d5a9",
   "metadata": {},
   "source": []
  },
  {
   "cell_type": "code",
   "execution_count": null,
   "id": "999dfbbb",
   "metadata": {},
   "outputs": [],
   "source": []
  },
  {
   "cell_type": "code",
   "execution_count": null,
   "id": "418e1715",
   "metadata": {},
   "outputs": [],
   "source": []
  }
 ],
 "metadata": {
  "kernelspec": {
   "display_name": "Python 3",
   "language": "python",
   "name": "python3"
  },
  "language_info": {
   "codemirror_mode": {
    "name": "ipython",
    "version": 3
   },
   "file_extension": ".py",
   "mimetype": "text/x-python",
   "name": "python",
   "nbconvert_exporter": "python",
   "pygments_lexer": "ipython3",
   "version": "3.8.8"
  }
 },
 "nbformat": 4,
 "nbformat_minor": 5
}
